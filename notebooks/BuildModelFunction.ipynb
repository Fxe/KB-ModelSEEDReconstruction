{
 "cells": [
  {
   "cell_type": "code",
   "execution_count": 1,
   "metadata": {},
   "outputs": [
    {
     "name": "stdout",
     "output_type": "stream",
     "text": [
      "python version 3.7.6\n",
      "cobrakbase 0.2.8\n"
     ]
    }
   ],
   "source": [
    "import platform\n",
    "print(\"python version \" + platform.python_version())\n",
    "import sys\n",
    "import json\n",
    "import os\n",
    "import pandas as pd\n",
    "from os.path import exists\n",
    "from pathlib import Path\n",
    "import logging\n",
    "COBRAKBase_path = \"/Users/chenry/code/cobrakbase\"\n",
    "BaseModule_path = \"/Users/chenry/code/KBBaseModules\"\n",
    "ModelSEEDpy_path = \"/Users/chenry/code/ModelSEEDpy\"\n",
    "ModelSEEDReconstruction_path = \"/Users/chenry/code/KB-ModelSEEDReconstruction\"\n",
    "sys.path.append(COBRAKBase_path)\n",
    "sys.path.append(BaseModule_path)\n",
    "sys.path.append(ModelSEEDpy_path)\n",
    "sys.path.append(ModelSEEDReconstruction_path+\"/lib\")\n",
    "from modelseedpy.core.mstemplate import MSTemplateBuilder\n",
    "from ModelSEEDReconstruction.modelseedrecon import ModelSEEDRecon\n",
    "from installed_clients.WorkspaceClient import Workspace\n",
    "#You need to get a KBase dev token or pull a token from the narrative and put in ~/.kbase/token file\n",
    "token = None\n",
    "if Path(str(Path.home()) + '/.kbase/token').exists():\n",
    "    with open(str(Path.home()) + '/.kbase/token', 'r') as fh:\n",
    "        token = fh.read().strip()\n",
    "#workspace_url = \"https://appdev.kbase.us/services/ws\"#For appdev\n",
    "workspace_url = \"https://kbase.us/services/ws\"#For prod"
   ]
  },
  {
   "cell_type": "code",
   "execution_count": 2,
   "metadata": {},
   "outputs": [],
   "source": [
    "wsclient = Workspace(workspace_url, token=token)\n",
    "msrecon = ModelSEEDRecon({\"ATP_media_workspace\":\"68393\",\"version\":\"0.0.1\"},ModelSEEDReconstruction_path,ModelSEEDReconstruction_path+\"/notebooks/\",token,{\"Workspace\":wsclient},None)"
   ]
  },
  {
   "cell_type": "code",
   "execution_count": 3,
   "metadata": {},
   "outputs": [],
   "source": [
    "template = msrecon.kbase_api.get_object(\"GramNegModelTemplateV4\",\"NewKBaseModelTemplates\")\n",
    "template = MSTemplateBuilder.from_dict(template).build()\n",
    "biomass = template.biomasses.get_by_id(\"bio1\")"
   ]
  },
  {
   "cell_type": "code",
   "execution_count": 4,
   "metadata": {},
   "outputs": [],
   "source": [
    "bsub168 = msrecon.kbase_api.get_from_ws(\"bsub168.mdl\",135225)\n",
    "ecoliK12 = msrecon.kbase_api.get_from_ws(\"ecoliK12.mdl\",135225)\n",
    "ecoli_bio_MS1 = ecoliK12.reactions.get_by_id(\"bio1\")\n",
    "ecoli_bio_1_new = biomass.build_biomass(ecoliK12, index=\"0\",classic=False,GC=0.508)\n",
    "ecoli_bio_1_classic = biomass.build_biomass(ecoliK12, index=\"0\",classic=True,GC=0.508)\n",
    "data = {}\n",
    "for met in ecoli_bio_MS1.metabolites:\n",
    "    data[met.id] = {\n",
    "        \"ms1\":ecoli_bio_MS1.metabolites[met],\n",
    "        \"new\":0,\n",
    "        \"classic\":0\n",
    "    }\n",
    "for met in ecoli_bio_1_new.metabolites:\n",
    "    if met.id not in data:\n",
    "        data[met.id] = {\n",
    "            \"ms1\":0,\n",
    "            \"new\":ecoli_bio_1_new.metabolites[met],\n",
    "            \"classic\":0\n",
    "        }\n",
    "    else:\n",
    "        data[met.id][\"new\"] = ecoli_bio_1_new.metabolites[met]\n",
    "for met in ecoli_bio_1_classic.metabolites:\n",
    "    if met.id not in data:\n",
    "        data[met.id] = {\n",
    "            \"ms1\":0,\n",
    "            \"new\":0,\n",
    "            \"classic\":ecoli_bio_1_classic.metabolites[met]\n",
    "        }\n",
    "    else:\n",
    "        data[met.id][\"classic\"] = ecoli_bio_1_classic.metabolites[met]\n",
    "df = pd.DataFrame(data)\n",
    "df = df.transpose()\n",
    "df.to_csv(\"BiomassComparison.csv\")"
   ]
  },
  {
   "cell_type": "code",
   "execution_count": 5,
   "metadata": {},
   "outputs": [
    {
     "ename": "KeyError",
     "evalue": "'rxn05295_c0'",
     "output_type": "error",
     "traceback": [
      "\u001b[0;31m-------------------------------------------------------------------------\u001b[0m",
      "\u001b[0;31mKeyError\u001b[0m                                Traceback (most recent call last)",
      "\u001b[0;32m<ipython-input-5-ca098d97a684>\u001b[0m in \u001b[0;36m<module>\u001b[0;34m\u001b[0m\n\u001b[0;32m----> 1\u001b[0;31m \u001b[0mrxn\u001b[0m \u001b[0;34m=\u001b[0m \u001b[0mecoliK12\u001b[0m\u001b[0;34m.\u001b[0m\u001b[0mreactions\u001b[0m\u001b[0;34m.\u001b[0m\u001b[0mget_by_id\u001b[0m\u001b[0;34m(\u001b[0m\u001b[0;34m\"rxn05295_c0\"\u001b[0m\u001b[0;34m)\u001b[0m\u001b[0;34m\u001b[0m\u001b[0;34m\u001b[0m\u001b[0m\n\u001b[0m\u001b[1;32m      2\u001b[0m \u001b[0mrxn\u001b[0m\u001b[0;34m\u001b[0m\u001b[0;34m\u001b[0m\u001b[0m\n",
      "\u001b[0;32m~/opt/anaconda3/lib/python3.7/site-packages/cobra/core/dictlist.py\u001b[0m in \u001b[0;36mget_by_id\u001b[0;34m(self, id)\u001b[0m\n\u001b[1;32m     56\u001b[0m     \u001b[0;32mdef\u001b[0m \u001b[0mget_by_id\u001b[0m\u001b[0;34m(\u001b[0m\u001b[0mself\u001b[0m\u001b[0;34m,\u001b[0m \u001b[0mid\u001b[0m\u001b[0;34m)\u001b[0m\u001b[0;34m:\u001b[0m\u001b[0;34m\u001b[0m\u001b[0;34m\u001b[0m\u001b[0m\n\u001b[1;32m     57\u001b[0m         \u001b[0;34m\"\"\"return the element with a matching id\"\"\"\u001b[0m\u001b[0;34m\u001b[0m\u001b[0;34m\u001b[0m\u001b[0m\n\u001b[0;32m---> 58\u001b[0;31m         \u001b[0;32mreturn\u001b[0m \u001b[0mlist\u001b[0m\u001b[0;34m.\u001b[0m\u001b[0m__getitem__\u001b[0m\u001b[0;34m(\u001b[0m\u001b[0mself\u001b[0m\u001b[0;34m,\u001b[0m \u001b[0mself\u001b[0m\u001b[0;34m.\u001b[0m\u001b[0m_dict\u001b[0m\u001b[0;34m[\u001b[0m\u001b[0mid\u001b[0m\u001b[0;34m]\u001b[0m\u001b[0;34m)\u001b[0m\u001b[0;34m\u001b[0m\u001b[0;34m\u001b[0m\u001b[0m\n\u001b[0m\u001b[1;32m     59\u001b[0m \u001b[0;34m\u001b[0m\u001b[0m\n\u001b[1;32m     60\u001b[0m     \u001b[0;32mdef\u001b[0m \u001b[0mlist_attr\u001b[0m\u001b[0;34m(\u001b[0m\u001b[0mself\u001b[0m\u001b[0;34m,\u001b[0m \u001b[0mattribute\u001b[0m\u001b[0;34m)\u001b[0m\u001b[0;34m:\u001b[0m\u001b[0;34m\u001b[0m\u001b[0;34m\u001b[0m\u001b[0m\n",
      "\u001b[0;31mKeyError\u001b[0m: 'rxn05295_c0'"
     ]
    }
   ],
   "source": [
    "rxn = ecoliK12.reactions.get_by_id(\"rxn05295_c0\")\n",
    "rxn"
   ]
  },
  {
   "cell_type": "code",
   "execution_count": 4,
   "metadata": {},
   "outputs": [
    {
     "data": {
      "text/plain": [
       "<modelseedpy.core.mstemplate.MSTemplateBiomass at 0x7fc2f070b050>"
      ]
     },
     "execution_count": 4,
     "metadata": {},
     "output_type": "execute_result"
    }
   ],
   "source": [
    "template.overwrite_biomass_from_table(\"biomasses.tsv\",\"bio1\",biomass.name,biomass.type,biomass.dna,biomass.rna,biomass.protein,biomass.lipid,biomass.cellwall,biomass.cofactor,biomass.energy,biomass.other)\n",
    "newbiomass = template.biomasses.get_by_id(\"bio1\")"
   ]
  },
  {
   "cell_type": "code",
   "execution_count": null,
   "metadata": {},
   "outputs": [
    {
     "name": "stdout",
     "output_type": "stream",
     "text": [
      "{\n",
      "    \"workspace\": 68304,\n",
      "    \"genome_refs\": [\n",
      "        \"68303/Escherichia_coli_K-12_MG1655.RAST\"\n",
      "    ],\n",
      "    \"run_gapfilling\": true,\n",
      "    \"atp_safe\": true,\n",
      "    \"forced_atp_list\": [],\n",
      "    \"gapfilling_media_list\": [\n",
      "        \"KBaseMedia/Carbon-D-Glucose\"\n",
      "    ],\n",
      "    \"suffix\": \".mdl\",\n",
      "    \"core_template\": \"auto\",\n",
      "    \"gs_template\": \"auto\",\n",
      "    \"gs_template_ref\": null,\n",
      "    \"template_reactions_only\": true,\n",
      "    \"output_core_models\": true\n",
      "}\n"
     ]
    },
    {
     "name": "stderr",
     "output_type": "stream",
     "text": [
      "/Users/chenry/opt/anaconda3/lib/python3.7/site-packages/sklearn/base.py:318 \u001b[1;31mUserWarning\u001b[0m: Trying to unpickle estimator KNeighborsClassifier from version 0.23.2 when using version 0.22.1. This might lead to breaking code or invalid results. Use at your own risk.\n",
      "cobra/util/solver.py:416 \u001b[1;31mUserWarning\u001b[0m: solver status is 'infeasible'\n",
      "cobra/util/solver.py:416 \u001b[1;31mUserWarning\u001b[0m: solver status is 'infeasible'\n",
      "cobra/util/solver.py:416 \u001b[1;31mUserWarning\u001b[0m: solver status is 'infeasible'\n",
      "INFO:modelseedpy.core.msmodelutl:cpd11632 not found in model!\n",
      "INFO:modelseedpy.core.msmodelutl:cpd11632 not found in model!\n",
      "cobra/util/solver.py:416 \u001b[1;31mUserWarning\u001b[0m: solver status is 'infeasible'\n",
      "INFO:modelseedpy.core.msmodelutl:cpd01024 not found in model!\n",
      "cobra/util/solver.py:416 \u001b[1;31mUserWarning\u001b[0m: solver status is 'infeasible'\n",
      "INFO:modelseedpy.core.msmodelutl:cpd01024 not found in model!\n",
      "cobra/util/solver.py:416 \u001b[1;31mUserWarning\u001b[0m: solver status is 'infeasible'\n",
      "cobra/util/solver.py:416 \u001b[1;31mUserWarning\u001b[0m: solver status is 'infeasible'\n"
     ]
    }
   ],
   "source": [
    "output = msrecon.build_metabolic_models({\n",
    "    \"workspace\":68304,\n",
    "    \"genome_refs\":[\"68303/Escherichia_coli_K-12_MG1655.RAST\"],\n",
    "    \"run_gapfilling\":True,\n",
    "    \"atp_safe\":True,\n",
    "    \"forced_atp_list\":[],\n",
    "    \"gapfilling_media_list\":[\"KBaseMedia/Carbon-D-Glucose\"],\n",
    "    \"suffix\":\".mdl\",\n",
    "    \"core_template\":\"auto\",\n",
    "    \"gs_template\":\"auto\",\n",
    "    \"gs_template_ref\":None,\n",
    "    \"template_reactions_only\":True,\n",
    "    \"output_core_models\":True\n",
    "})"
   ]
  }
 ],
 "metadata": {
  "kernelspec": {
   "display_name": "Python 3",
   "language": "python",
   "name": "python3"
  },
  "language_info": {
   "codemirror_mode": {
    "name": "ipython",
    "version": 3
   },
   "file_extension": ".py",
   "mimetype": "text/x-python",
   "name": "python",
   "nbconvert_exporter": "python",
   "pygments_lexer": "ipython3",
   "version": "3.7.6"
  }
 },
 "nbformat": 4,
 "nbformat_minor": 4
}
