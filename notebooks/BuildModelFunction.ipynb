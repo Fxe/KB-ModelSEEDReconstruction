{
 "cells": [
  {
   "cell_type": "code",
   "execution_count": 6,
   "metadata": {},
   "outputs": [
    {
     "name": "stdout",
     "output_type": "stream",
     "text": [
      "python version 3.7.6\n"
     ]
    }
   ],
   "source": [
    "import platform\n",
    "print(\"python version \" + platform.python_version())\n",
    "import sys\n",
    "import json\n",
    "import os\n",
    "from os.path import exists\n",
    "from pathlib import Path\n",
    "import logging\n",
    "ModelSEEDpy_path = \"/Users/chenry/code/ModelSEEDpy\"\n",
    "ModelSEEDReconstruction_path = \"/Users/chenry/code/KB-ModelSEEDReconstruction\"\n",
    "sys.path.append(ModelSEEDpy_path)\n",
    "sys.path.append(ModelSEEDReconstruction_path+\"/lib\")\n",
    "from ModelSEEDReconstruction.modelseedrecon import ModelSEEDRecon\n",
    "from installed_clients.WorkspaceClient import Workspace\n",
    "#You need to get a KBase dev token or pull a token from the narrative and put in ~/.kbase/token file\n",
    "token = None\n",
    "if Path(str(Path.home()) + '/.kbase/token').exists():\n",
    "    with open(str(Path.home()) + '/.kbase/token', 'r') as fh:\n",
    "        token = fh.read().strip()\n",
    "workspace_url = \"https://appdev.kbase.us/services/ws\"#For appdev\n",
    "#workspace_url = \"https://kbase.us/services/ws\"#For prod"
   ]
  },
  {
   "cell_type": "code",
   "execution_count": 8,
   "metadata": {},
   "outputs": [],
   "source": [
    "wsclient = Workspace(workspace_url, token=token)\n",
    "msrecon = ModelSEEDRecon(\"ModelSEEDReconstruction\",wsclient,ModelSEEDReconstruction_path+\"/notebooks/\",ModelSEEDReconstruction_path,{\"ATP_media_workspace\":\"68393\",\"version\":\"0.0.1\"})"
   ]
  },
  {
   "cell_type": "code",
   "execution_count": null,
   "metadata": {},
   "outputs": [
    {
     "name": "stdout",
     "output_type": "stream",
     "text": [
      "{\n",
      "    \"workspace\": 68304,\n",
      "    \"genome_refs\": [\n",
      "        \"68303/Escherichia_coli_K-12_MG1655.RAST\"\n",
      "    ],\n",
      "    \"run_gapfilling\": true,\n",
      "    \"atp_safe\": true,\n",
      "    \"forced_atp_list\": [],\n",
      "    \"gapfilling_media_list\": [\n",
      "        \"KBaseMedia/Carbon-D-Glucose\"\n",
      "    ],\n",
      "    \"suffix\": \".mdl\",\n",
      "    \"core_template\": \"auto\",\n",
      "    \"gs_template\": \"auto\",\n",
      "    \"gs_template_ref\": null,\n",
      "    \"template_reactions_only\": true,\n",
      "    \"output_core_models\": true\n",
      "}\n"
     ]
    },
    {
     "name": "stderr",
     "output_type": "stream",
     "text": [
      "/Users/chenry/opt/anaconda3/lib/python3.7/site-packages/sklearn/base.py:318 \u001b[1;31mUserWarning\u001b[0m: Trying to unpickle estimator KNeighborsClassifier from version 0.23.2 when using version 0.22.1. This might lead to breaking code or invalid results. Use at your own risk.\n",
      "cobra/util/solver.py:416 \u001b[1;31mUserWarning\u001b[0m: solver status is 'infeasible'\n",
      "cobra/util/solver.py:416 \u001b[1;31mUserWarning\u001b[0m: solver status is 'infeasible'\n",
      "cobra/util/solver.py:416 \u001b[1;31mUserWarning\u001b[0m: solver status is 'infeasible'\n",
      "INFO:modelseedpy.core.msmodelutl:cpd11632 not found in model!\n",
      "INFO:modelseedpy.core.msmodelutl:cpd11632 not found in model!\n",
      "cobra/util/solver.py:416 \u001b[1;31mUserWarning\u001b[0m: solver status is 'infeasible'\n",
      "INFO:modelseedpy.core.msmodelutl:cpd01024 not found in model!\n",
      "cobra/util/solver.py:416 \u001b[1;31mUserWarning\u001b[0m: solver status is 'infeasible'\n",
      "INFO:modelseedpy.core.msmodelutl:cpd01024 not found in model!\n",
      "cobra/util/solver.py:416 \u001b[1;31mUserWarning\u001b[0m: solver status is 'infeasible'\n",
      "cobra/util/solver.py:416 \u001b[1;31mUserWarning\u001b[0m: solver status is 'infeasible'\n"
     ]
    }
   ],
   "source": [
    "output = msrecon.build_metabolic_models({\n",
    "    \"workspace\":68304,\n",
    "    \"genome_refs\":[\"68303/Escherichia_coli_K-12_MG1655.RAST\"],\n",
    "    \"run_gapfilling\":True,\n",
    "    \"atp_safe\":True,\n",
    "    \"forced_atp_list\":[],\n",
    "    \"gapfilling_media_list\":[\"KBaseMedia/Carbon-D-Glucose\"],\n",
    "    \"suffix\":\".mdl\",\n",
    "    \"core_template\":\"auto\",\n",
    "    \"gs_template\":\"auto\",\n",
    "    \"gs_template_ref\":None,\n",
    "    \"template_reactions_only\":True,\n",
    "    \"output_core_models\":True\n",
    "})"
   ]
  }
 ],
 "metadata": {
  "kernelspec": {
   "display_name": "Python 3",
   "language": "python",
   "name": "python3"
  },
  "language_info": {
   "codemirror_mode": {
    "name": "ipython",
    "version": 3
   },
   "file_extension": ".py",
   "mimetype": "text/x-python",
   "name": "python",
   "nbconvert_exporter": "python",
   "pygments_lexer": "ipython3",
   "version": "3.7.6"
  }
 },
 "nbformat": 4,
 "nbformat_minor": 4
}
